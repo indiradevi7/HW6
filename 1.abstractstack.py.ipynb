{
 "cells": [
  {
   "cell_type": "markdown",
   "id": "a58433f8",
   "metadata": {},
   "source": [
    "# 1. abstractstack.py"
   ]
  },
  {
   "cell_type": "code",
   "execution_count": 4,
   "id": "a7592d2f",
   "metadata": {},
   "outputs": [],
   "source": [
    "\"\"\"\n",
    "File: abstractstack.py \n",
    "Author: Ken Lambert\n",
    "\"\"\"\n",
    "from abstractcollection import AbstractCollection\n",
    "class AbstractStack(AbstractCollection): \n",
    "    \"\"\"An abstract stack implementation.\"\"\"\n",
    "    # Constructor\n",
    "    def __init__(self, sourceCollection = None):\n",
    "        \"\"\"Sets the initial state of self, which includes the contents of sourceCollection, if it’s present.\"\"\" \n",
    "        AbstractCollection.__init__(self, sourceCollection)\n",
    "    # Mutator methods \n",
    "    def add(self, item):\n",
    "        \"\"\"Adds item to self.\"\"\" \n",
    "        self.push(item)"
   ]
  },
  {
   "cell_type": "code",
   "execution_count": null,
   "id": "694249e8",
   "metadata": {},
   "outputs": [],
   "source": []
  }
 ],
 "metadata": {
  "kernelspec": {
   "display_name": "Python 3 (ipykernel)",
   "language": "python",
   "name": "python3"
  },
  "language_info": {
   "codemirror_mode": {
    "name": "ipython",
    "version": 3
   },
   "file_extension": ".py",
   "mimetype": "text/x-python",
   "name": "python",
   "nbconvert_exporter": "python",
   "pygments_lexer": "ipython3",
   "version": "3.11.4"
  }
 },
 "nbformat": 4,
 "nbformat_minor": 5
}
