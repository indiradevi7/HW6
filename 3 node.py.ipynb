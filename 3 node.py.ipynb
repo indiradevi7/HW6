{
 "cells": [
  {
   "cell_type": "markdown",
   "id": "64c4eb7e",
   "metadata": {},
   "source": [
    "# 3 node.py"
   ]
  },
  {
   "cell_type": "code",
   "execution_count": 2,
   "id": "fb358384",
   "metadata": {},
   "outputs": [],
   "source": [
    "\"\"\"\n",
    "File: node.py\n",
    "Author: Ken Lambert\n",
    "\"\"\"\n",
    "\n",
    "class Node(object):\n",
    "    \"\"\"Represents a singly linked node.\"\"\"\n",
    "\n",
    "    def __init__(self, data, next = None):\n",
    "        self.data = data\n",
    "        self.next = next\n"
   ]
  },
  {
   "cell_type": "code",
   "execution_count": null,
   "id": "c679794a",
   "metadata": {},
   "outputs": [],
   "source": []
  }
 ],
 "metadata": {
  "kernelspec": {
   "display_name": "Python 3 (ipykernel)",
   "language": "python",
   "name": "python3"
  },
  "language_info": {
   "codemirror_mode": {
    "name": "ipython",
    "version": 3
   },
   "file_extension": ".py",
   "mimetype": "text/x-python",
   "name": "python",
   "nbconvert_exporter": "python",
   "pygments_lexer": "ipython3",
   "version": "3.11.4"
  }
 },
 "nbformat": 4,
 "nbformat_minor": 5
}
