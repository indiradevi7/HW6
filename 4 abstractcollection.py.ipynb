{
 "cells": [
  {
   "cell_type": "markdown",
   "id": "2eb1c1f7",
   "metadata": {},
   "source": [
    "# 4 abstractcollection.py"
   ]
  },
  {
   "cell_type": "code",
   "execution_count": 2,
   "id": "60fa213c",
   "metadata": {},
   "outputs": [],
   "source": [
    "\"\"\"\n",
    "File: abstractcollection.py\n",
    "Author: Ken Lambert\n",
    "\"\"\"\n",
    "\n",
    "class AbstractCollection(object):\n",
    "    \"\"\"An abstract collection implementation.\"\"\"\n",
    "\n",
    "    # Constructor\n",
    "    def __init__(self, sourceCollection = None):\n",
    "        \"\"\"Sets the initial state of self, which includes the\n",
    "        contents of sourceCollection, if it's present.\"\"\"\n",
    "        self.size = 0\n",
    "        if sourceCollection:\n",
    "            for item in sourceCollection:\n",
    "                self.add(item)\n",
    "\n",
    "    # Accessor methods\n",
    "    def isEmpty(self):\n",
    "        \"\"\"Returns True if len(self) == 0, or False otherwise.\"\"\"\n",
    "        return len(self) == 0\n",
    "    \n",
    "    def __len__(self):\n",
    "        \"\"\"Returns the number of items in self.\"\"\"\n",
    "        return self.size\n",
    "\n",
    "    def __str__(self):\n",
    "        \"\"\"Returns the string representation of self.\"\"\"\n",
    "        return \"[\" + \", \".join(map(str, self)) + \"]\"\n",
    "\n",
    "    def __add__(self, other):\n",
    "        \"\"\"Returns a new bag containing the contents\n",
    "        of self and other.\"\"\"\n",
    "        result = type(self)(self)\n",
    "        for item in other:\n",
    "            result.add(item)\n",
    "        return result\n",
    "\n",
    "    def __eq__(self, other):\n",
    "        \"\"\"Returns True if self equals other,\n",
    "        or False otherwise.\"\"\"\n",
    "        if self is other: return True\n",
    "        if type(self) != type(other) or \\\n",
    "           len(self) != len(other):\n",
    "            return False\n",
    "        otherIter = iter(other)\n",
    "        for item in self:\n",
    "            if item != next(otherIter):\n",
    "                return False\n",
    "        return True\n",
    "\n",
    "    def count(self, item):\n",
    "        \"\"\"Returns the number of instances of item in self.\"\"\"\n",
    "        total = 0\n",
    "        for nextItem in self:\n",
    "            if nextItem == item:\n",
    "                total += 1\n",
    "        return total\n",
    "\n"
   ]
  },
  {
   "cell_type": "code",
   "execution_count": null,
   "id": "32d5b0be",
   "metadata": {},
   "outputs": [],
   "source": []
  }
 ],
 "metadata": {
  "kernelspec": {
   "display_name": "Python 3 (ipykernel)",
   "language": "python",
   "name": "python3"
  },
  "language_info": {
   "codemirror_mode": {
    "name": "ipython",
    "version": 3
   },
   "file_extension": ".py",
   "mimetype": "text/x-python",
   "name": "python",
   "nbconvert_exporter": "python",
   "pygments_lexer": "ipython3",
   "version": "3.11.4"
  }
 },
 "nbformat": 4,
 "nbformat_minor": 5
}
