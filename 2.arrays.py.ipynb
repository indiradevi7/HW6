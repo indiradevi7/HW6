{
 "cells": [
  {
   "cell_type": "markdown",
   "id": "e67d7bb2",
   "metadata": {},
   "source": [
    "# 2 arrays.py"
   ]
  },
  {
   "cell_type": "code",
   "execution_count": 2,
   "id": "84d200c2",
   "metadata": {},
   "outputs": [],
   "source": [
    "\"\"\"\n",
    "File: arrays.py\n",
    "\n",
    "An Array is a restricted list whose clients can use\n",
    "only [], len, iter, and str.\n",
    "\n",
    "To instantiate, use\n",
    "\n",
    "<variable> = array(<capacity>, <optional fill value>)\n",
    "\n",
    "The fill value is None by default.\n",
    "\"\"\"\n",
    "\n",
    "class Array(object):\n",
    "    \"\"\"Represents an array.\"\"\"\n",
    "\n",
    "    def __init__(self, capacity, fillValue = None):\n",
    "        \"\"\"Capacity is the static size of the array.\n",
    "        fillValue is placed at each position.\"\"\"\n",
    "        self.items = list()\n",
    "        for count in range(capacity):\n",
    "            self.items.append(fillValue)\n",
    "\n",
    "    def __len__(self):\n",
    "        \"\"\"-> The capacity of the array.\"\"\"\n",
    "        return len(self.items)\n",
    "\n",
    "    def __str__(self):\n",
    "        \"\"\"-> The string representation of the array.\"\"\"\n",
    "        return str(self.items)\n",
    "\n",
    "    def __iter__(self):\n",
    "        \"\"\"Supports iteration over a view of an array.\"\"\"\n",
    "        return iter(self.items)\n",
    "\n",
    "    def __getitem__(self, index):\n",
    "        \"\"\"Subscript operator for access at index.\"\"\"\n",
    "        return self.items[index]\n",
    "\n",
    "    def __setitem__(self, index, newItem):\n",
    "        \"\"\"Subscript operator for replacement at index.\"\"\"\n",
    "        self.items[index] = newItem\n"
   ]
  },
  {
   "cell_type": "code",
   "execution_count": null,
   "id": "63e282c0",
   "metadata": {},
   "outputs": [],
   "source": []
  }
 ],
 "metadata": {
  "kernelspec": {
   "display_name": "Python 3 (ipykernel)",
   "language": "python",
   "name": "python3"
  },
  "language_info": {
   "codemirror_mode": {
    "name": "ipython",
    "version": 3
   },
   "file_extension": ".py",
   "mimetype": "text/x-python",
   "name": "python",
   "nbconvert_exporter": "python",
   "pygments_lexer": "ipython3",
   "version": "3.11.4"
  }
 },
 "nbformat": 4,
 "nbformat_minor": 5
}
